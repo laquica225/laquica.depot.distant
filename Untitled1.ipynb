{
 "cells": [
  {
   "cell_type": "code",
   "execution_count": 1,
   "id": "5514d817-7ff0-4b83-b2e2-0cb94912b24a",
   "metadata": {},
   "outputs": [
    {
     "name": "stdout",
     "output_type": "stream",
     "text": [
      "Bienvenue dans le monde Python ! Commençons à coder\n"
     ]
    }
   ],
   "source": [
    "print (\"Bienvenue dans le monde Python ! Commençons à coder\")"
   ]
  },
  {
   "cell_type": "code",
   "execution_count": null,
   "id": "5ff2fded-a694-41cc-8638-5de1a79fd7bd",
   "metadata": {},
   "outputs": [],
   "source": []
  }
 ],
 "metadata": {
  "kernelspec": {
   "display_name": "Python 3 (ipykernel)",
   "language": "python",
   "name": "python3"
  },
  "language_info": {
   "codemirror_mode": {
    "name": "ipython",
    "version": 3
   },
   "file_extension": ".py",
   "mimetype": "text/x-python",
   "name": "python",
   "nbconvert_exporter": "python",
   "pygments_lexer": "ipython3",
   "version": "3.9.13"
  }
 },
 "nbformat": 4,
 "nbformat_minor": 5
}
